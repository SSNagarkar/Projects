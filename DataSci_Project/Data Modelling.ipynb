{
 "cells": [
  {
   "cell_type": "markdown",
   "id": "63469e9f",
   "metadata": {},
   "source": [
    "# Modeling"
   ]
  },
  {
   "cell_type": "code",
   "execution_count": null,
   "id": "47c41c22",
   "metadata": {},
   "outputs": [],
   "source": [
    "import os\n",
    "\n",
    "import pandas as pd\n",
    "import numpy as np\n",
    "\n",
    "import pickle\n",
    "import matplotlib.pyplot as plt\n",
    "import seaborn as sns\n",
    "\n",
    "from sklearn.preprocessing import scale\n",
    "from sklearn.model_selection import train_test_split, cross_validate, GridSearchCV, learning_curve, cross_val_score, RandomizedSearchCV, validation_curve\n",
    "from sklearn.preprocessing import StandardScaler, MinMaxScaler\n",
    "\n",
    "\n",
    "from sklearn.neighbors import KNeighborsClassifier\n",
    "\n",
    "from sklearn.metrics import accuracy_score, classification_report\n",
    "\n",
    "\n",
    "from bayes_opt import BayesianOptimization\n",
    "\n",
    "\n",
    "from sklearn.feature_selection import mutual_info_regression, SelectKBest, f_regression\n",
    "from sklearn.utils import resample, shuffle\n",
    "\n",
    "from sklearn.preprocessing import LabelEncoder\n",
    "\n",
    "random_state=42"
   ]
  },
  {
   "cell_type": "code",
   "execution_count": 108,
   "id": "fc6cb5c1",
   "metadata": {},
   "outputs": [],
   "source": [
    "# To suppress future warnings\n",
    "import warnings\n",
    "warnings.simplefilter(action='ignore', category=FutureWarning)\n",
    "warnings.simplefilter(action='ignore', category=UserWarning)"
   ]
  },
  {
   "cell_type": "code",
   "execution_count": 86,
   "id": "773e3928",
   "metadata": {},
   "outputs": [],
   "source": [
    "df= pd.read_csv('/Users/sayalinagarkar/Documents/Sayali/INFO-6105/Project/US_1921_2021_normalized.csv')"
   ]
  },
  {
   "cell_type": "code",
   "execution_count": 87,
   "id": "22cc89df",
   "metadata": {},
   "outputs": [
    {
     "data": {
      "text/plain": [
       "(587927, 15)"
      ]
     },
     "execution_count": 87,
     "metadata": {},
     "output_type": "execute_result"
    }
   ],
   "source": [
    "df.shape"
   ]
  },
  {
   "cell_type": "code",
   "execution_count": 88,
   "id": "98858a69",
   "metadata": {},
   "outputs": [
    {
     "data": {
      "text/html": [
       "<div>\n",
       "<style scoped>\n",
       "    .dataframe tbody tr th:only-of-type {\n",
       "        vertical-align: middle;\n",
       "    }\n",
       "\n",
       "    .dataframe tbody tr th {\n",
       "        vertical-align: top;\n",
       "    }\n",
       "\n",
       "    .dataframe thead th {\n",
       "        text-align: right;\n",
       "    }\n",
       "</style>\n",
       "<table border=\"1\" class=\"dataframe\">\n",
       "  <thead>\n",
       "    <tr style=\"text-align: right;\">\n",
       "      <th></th>\n",
       "      <th>popularity</th>\n",
       "      <th>year</th>\n",
       "      <th>danceability</th>\n",
       "      <th>energy</th>\n",
       "      <th>key</th>\n",
       "      <th>loudness</th>\n",
       "      <th>mode</th>\n",
       "      <th>speechiness</th>\n",
       "      <th>acousticness</th>\n",
       "      <th>instrumentalness</th>\n",
       "      <th>liveness</th>\n",
       "      <th>valence</th>\n",
       "      <th>tempo</th>\n",
       "      <th>time_signature</th>\n",
       "      <th>duration</th>\n",
       "    </tr>\n",
       "  </thead>\n",
       "  <tbody>\n",
       "    <tr>\n",
       "      <th>0</th>\n",
       "      <td>0.06</td>\n",
       "      <td>1922</td>\n",
       "      <td>0.645</td>\n",
       "      <td>0.4450</td>\n",
       "      <td>C</td>\n",
       "      <td>-13.338</td>\n",
       "      <td>major</td>\n",
       "      <td>0.4510</td>\n",
       "      <td>0.674</td>\n",
       "      <td>0.7440</td>\n",
       "      <td>0.151</td>\n",
       "      <td>0.127</td>\n",
       "      <td>104.851</td>\n",
       "      <td>3</td>\n",
       "      <td>126.903</td>\n",
       "    </tr>\n",
       "    <tr>\n",
       "      <th>1</th>\n",
       "      <td>0.00</td>\n",
       "      <td>1922</td>\n",
       "      <td>0.695</td>\n",
       "      <td>0.2630</td>\n",
       "      <td>C</td>\n",
       "      <td>-22.136</td>\n",
       "      <td>major</td>\n",
       "      <td>0.9570</td>\n",
       "      <td>0.797</td>\n",
       "      <td>0.0000</td>\n",
       "      <td>0.148</td>\n",
       "      <td>0.655</td>\n",
       "      <td>102.009</td>\n",
       "      <td>1</td>\n",
       "      <td>98.200</td>\n",
       "    </tr>\n",
       "    <tr>\n",
       "      <th>2</th>\n",
       "      <td>0.00</td>\n",
       "      <td>1922</td>\n",
       "      <td>0.434</td>\n",
       "      <td>0.1770</td>\n",
       "      <td>C#</td>\n",
       "      <td>-21.180</td>\n",
       "      <td>major</td>\n",
       "      <td>0.0512</td>\n",
       "      <td>0.994</td>\n",
       "      <td>0.0218</td>\n",
       "      <td>0.212</td>\n",
       "      <td>0.457</td>\n",
       "      <td>130.418</td>\n",
       "      <td>5</td>\n",
       "      <td>181.640</td>\n",
       "    </tr>\n",
       "    <tr>\n",
       "      <th>3</th>\n",
       "      <td>0.00</td>\n",
       "      <td>1922</td>\n",
       "      <td>0.321</td>\n",
       "      <td>0.0946</td>\n",
       "      <td>G</td>\n",
       "      <td>-27.961</td>\n",
       "      <td>major</td>\n",
       "      <td>0.0504</td>\n",
       "      <td>0.995</td>\n",
       "      <td>0.9180</td>\n",
       "      <td>0.104</td>\n",
       "      <td>0.397</td>\n",
       "      <td>169.980</td>\n",
       "      <td>3</td>\n",
       "      <td>176.907</td>\n",
       "    </tr>\n",
       "    <tr>\n",
       "      <th>4</th>\n",
       "      <td>0.00</td>\n",
       "      <td>1922</td>\n",
       "      <td>0.402</td>\n",
       "      <td>0.1580</td>\n",
       "      <td>D#</td>\n",
       "      <td>-16.900</td>\n",
       "      <td>minor</td>\n",
       "      <td>0.0390</td>\n",
       "      <td>0.989</td>\n",
       "      <td>0.1300</td>\n",
       "      <td>0.311</td>\n",
       "      <td>0.196</td>\n",
       "      <td>103.220</td>\n",
       "      <td>4</td>\n",
       "      <td>163.080</td>\n",
       "    </tr>\n",
       "  </tbody>\n",
       "</table>\n",
       "</div>"
      ],
      "text/plain": [
       "   popularity  year  danceability  energy key  loudness   mode  speechiness  \\\n",
       "0        0.06  1922         0.645  0.4450   C   -13.338  major       0.4510   \n",
       "1        0.00  1922         0.695  0.2630   C   -22.136  major       0.9570   \n",
       "2        0.00  1922         0.434  0.1770  C#   -21.180  major       0.0512   \n",
       "3        0.00  1922         0.321  0.0946   G   -27.961  major       0.0504   \n",
       "4        0.00  1922         0.402  0.1580  D#   -16.900  minor       0.0390   \n",
       "\n",
       "   acousticness  instrumentalness  liveness  valence    tempo  time_signature  \\\n",
       "0         0.674            0.7440     0.151    0.127  104.851               3   \n",
       "1         0.797            0.0000     0.148    0.655  102.009               1   \n",
       "2         0.994            0.0218     0.212    0.457  130.418               5   \n",
       "3         0.995            0.9180     0.104    0.397  169.980               3   \n",
       "4         0.989            0.1300     0.311    0.196  103.220               4   \n",
       "\n",
       "   duration  \n",
       "0   126.903  \n",
       "1    98.200  \n",
       "2   181.640  \n",
       "3   176.907  \n",
       "4   163.080  "
      ]
     },
     "execution_count": 88,
     "metadata": {},
     "output_type": "execute_result"
    }
   ],
   "source": [
    "df.head()"
   ]
  },
  {
   "cell_type": "markdown",
   "id": "c7df56df",
   "metadata": {},
   "source": [
    "We won't need years so dropping it."
   ]
  },
  {
   "cell_type": "code",
   "execution_count": 89,
   "id": "60fa6d06",
   "metadata": {},
   "outputs": [],
   "source": [
    "df_no_year= df.drop('year', axis=1)"
   ]
  },
  {
   "cell_type": "code",
   "execution_count": 90,
   "id": "a8bc35c6",
   "metadata": {},
   "outputs": [
    {
     "data": {
      "text/html": [
       "<div>\n",
       "<style scoped>\n",
       "    .dataframe tbody tr th:only-of-type {\n",
       "        vertical-align: middle;\n",
       "    }\n",
       "\n",
       "    .dataframe tbody tr th {\n",
       "        vertical-align: top;\n",
       "    }\n",
       "\n",
       "    .dataframe thead th {\n",
       "        text-align: right;\n",
       "    }\n",
       "</style>\n",
       "<table border=\"1\" class=\"dataframe\">\n",
       "  <thead>\n",
       "    <tr style=\"text-align: right;\">\n",
       "      <th></th>\n",
       "      <th>popularity</th>\n",
       "      <th>danceability</th>\n",
       "      <th>energy</th>\n",
       "      <th>key</th>\n",
       "      <th>loudness</th>\n",
       "      <th>mode</th>\n",
       "      <th>speechiness</th>\n",
       "      <th>acousticness</th>\n",
       "      <th>instrumentalness</th>\n",
       "      <th>liveness</th>\n",
       "      <th>valence</th>\n",
       "      <th>tempo</th>\n",
       "      <th>time_signature</th>\n",
       "      <th>duration</th>\n",
       "    </tr>\n",
       "  </thead>\n",
       "  <tbody>\n",
       "    <tr>\n",
       "      <th>0</th>\n",
       "      <td>0.06</td>\n",
       "      <td>0.645</td>\n",
       "      <td>0.4450</td>\n",
       "      <td>C</td>\n",
       "      <td>-13.338</td>\n",
       "      <td>major</td>\n",
       "      <td>0.4510</td>\n",
       "      <td>0.674</td>\n",
       "      <td>0.7440</td>\n",
       "      <td>0.151</td>\n",
       "      <td>0.127</td>\n",
       "      <td>104.851</td>\n",
       "      <td>3</td>\n",
       "      <td>126.903</td>\n",
       "    </tr>\n",
       "    <tr>\n",
       "      <th>1</th>\n",
       "      <td>0.00</td>\n",
       "      <td>0.695</td>\n",
       "      <td>0.2630</td>\n",
       "      <td>C</td>\n",
       "      <td>-22.136</td>\n",
       "      <td>major</td>\n",
       "      <td>0.9570</td>\n",
       "      <td>0.797</td>\n",
       "      <td>0.0000</td>\n",
       "      <td>0.148</td>\n",
       "      <td>0.655</td>\n",
       "      <td>102.009</td>\n",
       "      <td>1</td>\n",
       "      <td>98.200</td>\n",
       "    </tr>\n",
       "    <tr>\n",
       "      <th>2</th>\n",
       "      <td>0.00</td>\n",
       "      <td>0.434</td>\n",
       "      <td>0.1770</td>\n",
       "      <td>C#</td>\n",
       "      <td>-21.180</td>\n",
       "      <td>major</td>\n",
       "      <td>0.0512</td>\n",
       "      <td>0.994</td>\n",
       "      <td>0.0218</td>\n",
       "      <td>0.212</td>\n",
       "      <td>0.457</td>\n",
       "      <td>130.418</td>\n",
       "      <td>5</td>\n",
       "      <td>181.640</td>\n",
       "    </tr>\n",
       "    <tr>\n",
       "      <th>3</th>\n",
       "      <td>0.00</td>\n",
       "      <td>0.321</td>\n",
       "      <td>0.0946</td>\n",
       "      <td>G</td>\n",
       "      <td>-27.961</td>\n",
       "      <td>major</td>\n",
       "      <td>0.0504</td>\n",
       "      <td>0.995</td>\n",
       "      <td>0.9180</td>\n",
       "      <td>0.104</td>\n",
       "      <td>0.397</td>\n",
       "      <td>169.980</td>\n",
       "      <td>3</td>\n",
       "      <td>176.907</td>\n",
       "    </tr>\n",
       "    <tr>\n",
       "      <th>4</th>\n",
       "      <td>0.00</td>\n",
       "      <td>0.402</td>\n",
       "      <td>0.1580</td>\n",
       "      <td>D#</td>\n",
       "      <td>-16.900</td>\n",
       "      <td>minor</td>\n",
       "      <td>0.0390</td>\n",
       "      <td>0.989</td>\n",
       "      <td>0.1300</td>\n",
       "      <td>0.311</td>\n",
       "      <td>0.196</td>\n",
       "      <td>103.220</td>\n",
       "      <td>4</td>\n",
       "      <td>163.080</td>\n",
       "    </tr>\n",
       "  </tbody>\n",
       "</table>\n",
       "</div>"
      ],
      "text/plain": [
       "   popularity  danceability  energy key  loudness   mode  speechiness  \\\n",
       "0        0.06         0.645  0.4450   C   -13.338  major       0.4510   \n",
       "1        0.00         0.695  0.2630   C   -22.136  major       0.9570   \n",
       "2        0.00         0.434  0.1770  C#   -21.180  major       0.0512   \n",
       "3        0.00         0.321  0.0946   G   -27.961  major       0.0504   \n",
       "4        0.00         0.402  0.1580  D#   -16.900  minor       0.0390   \n",
       "\n",
       "   acousticness  instrumentalness  liveness  valence    tempo  time_signature  \\\n",
       "0         0.674            0.7440     0.151    0.127  104.851               3   \n",
       "1         0.797            0.0000     0.148    0.655  102.009               1   \n",
       "2         0.994            0.0218     0.212    0.457  130.418               5   \n",
       "3         0.995            0.9180     0.104    0.397  169.980               3   \n",
       "4         0.989            0.1300     0.311    0.196  103.220               4   \n",
       "\n",
       "   duration  \n",
       "0   126.903  \n",
       "1    98.200  \n",
       "2   181.640  \n",
       "3   176.907  \n",
       "4   163.080  "
      ]
     },
     "execution_count": 90,
     "metadata": {},
     "output_type": "execute_result"
    }
   ],
   "source": [
    "df_no_year.head()"
   ]
  },
  {
   "cell_type": "markdown",
   "id": "87022484",
   "metadata": {},
   "source": [
    "We will encode keys into numbers 0-11 and minor and major into 0 and 1, respectively as using oneHotEncoder will introduce more features which is not efficient."
   ]
  },
  {
   "cell_type": "code",
   "execution_count": 91,
   "id": "6586d7ac",
   "metadata": {},
   "outputs": [],
   "source": [
    "keys= ['C','C#','D','D#', 'E', 'F','F#','G', 'Ab','A','Bb','B' ]\n",
    "numbers=[x for x in range(12)]\n",
    "key_dict= dict(zip(keys, numbers))\n",
    "key_dict.update({'minor':0,'major':1})\n",
    "df=df_no_year.replace(key_dict)"
   ]
  },
  {
   "cell_type": "code",
   "execution_count": 92,
   "id": "8a075bdf",
   "metadata": {},
   "outputs": [
    {
     "data": {
      "text/html": [
       "<div>\n",
       "<style scoped>\n",
       "    .dataframe tbody tr th:only-of-type {\n",
       "        vertical-align: middle;\n",
       "    }\n",
       "\n",
       "    .dataframe tbody tr th {\n",
       "        vertical-align: top;\n",
       "    }\n",
       "\n",
       "    .dataframe thead th {\n",
       "        text-align: right;\n",
       "    }\n",
       "</style>\n",
       "<table border=\"1\" class=\"dataframe\">\n",
       "  <thead>\n",
       "    <tr style=\"text-align: right;\">\n",
       "      <th></th>\n",
       "      <th>popularity</th>\n",
       "      <th>danceability</th>\n",
       "      <th>energy</th>\n",
       "      <th>key</th>\n",
       "      <th>loudness</th>\n",
       "      <th>mode</th>\n",
       "      <th>speechiness</th>\n",
       "      <th>acousticness</th>\n",
       "      <th>instrumentalness</th>\n",
       "      <th>liveness</th>\n",
       "      <th>valence</th>\n",
       "      <th>tempo</th>\n",
       "      <th>time_signature</th>\n",
       "      <th>duration</th>\n",
       "    </tr>\n",
       "  </thead>\n",
       "  <tbody>\n",
       "    <tr>\n",
       "      <th>0</th>\n",
       "      <td>0.06</td>\n",
       "      <td>0.645</td>\n",
       "      <td>0.4450</td>\n",
       "      <td>0</td>\n",
       "      <td>-13.338</td>\n",
       "      <td>1</td>\n",
       "      <td>0.4510</td>\n",
       "      <td>0.674</td>\n",
       "      <td>0.7440</td>\n",
       "      <td>0.151</td>\n",
       "      <td>0.127</td>\n",
       "      <td>104.851</td>\n",
       "      <td>3</td>\n",
       "      <td>126.903</td>\n",
       "    </tr>\n",
       "    <tr>\n",
       "      <th>1</th>\n",
       "      <td>0.00</td>\n",
       "      <td>0.695</td>\n",
       "      <td>0.2630</td>\n",
       "      <td>0</td>\n",
       "      <td>-22.136</td>\n",
       "      <td>1</td>\n",
       "      <td>0.9570</td>\n",
       "      <td>0.797</td>\n",
       "      <td>0.0000</td>\n",
       "      <td>0.148</td>\n",
       "      <td>0.655</td>\n",
       "      <td>102.009</td>\n",
       "      <td>1</td>\n",
       "      <td>98.200</td>\n",
       "    </tr>\n",
       "    <tr>\n",
       "      <th>2</th>\n",
       "      <td>0.00</td>\n",
       "      <td>0.434</td>\n",
       "      <td>0.1770</td>\n",
       "      <td>1</td>\n",
       "      <td>-21.180</td>\n",
       "      <td>1</td>\n",
       "      <td>0.0512</td>\n",
       "      <td>0.994</td>\n",
       "      <td>0.0218</td>\n",
       "      <td>0.212</td>\n",
       "      <td>0.457</td>\n",
       "      <td>130.418</td>\n",
       "      <td>5</td>\n",
       "      <td>181.640</td>\n",
       "    </tr>\n",
       "    <tr>\n",
       "      <th>3</th>\n",
       "      <td>0.00</td>\n",
       "      <td>0.321</td>\n",
       "      <td>0.0946</td>\n",
       "      <td>7</td>\n",
       "      <td>-27.961</td>\n",
       "      <td>1</td>\n",
       "      <td>0.0504</td>\n",
       "      <td>0.995</td>\n",
       "      <td>0.9180</td>\n",
       "      <td>0.104</td>\n",
       "      <td>0.397</td>\n",
       "      <td>169.980</td>\n",
       "      <td>3</td>\n",
       "      <td>176.907</td>\n",
       "    </tr>\n",
       "    <tr>\n",
       "      <th>4</th>\n",
       "      <td>0.00</td>\n",
       "      <td>0.402</td>\n",
       "      <td>0.1580</td>\n",
       "      <td>3</td>\n",
       "      <td>-16.900</td>\n",
       "      <td>0</td>\n",
       "      <td>0.0390</td>\n",
       "      <td>0.989</td>\n",
       "      <td>0.1300</td>\n",
       "      <td>0.311</td>\n",
       "      <td>0.196</td>\n",
       "      <td>103.220</td>\n",
       "      <td>4</td>\n",
       "      <td>163.080</td>\n",
       "    </tr>\n",
       "  </tbody>\n",
       "</table>\n",
       "</div>"
      ],
      "text/plain": [
       "   popularity  danceability  energy  key  loudness  mode  speechiness  \\\n",
       "0        0.06         0.645  0.4450    0   -13.338     1       0.4510   \n",
       "1        0.00         0.695  0.2630    0   -22.136     1       0.9570   \n",
       "2        0.00         0.434  0.1770    1   -21.180     1       0.0512   \n",
       "3        0.00         0.321  0.0946    7   -27.961     1       0.0504   \n",
       "4        0.00         0.402  0.1580    3   -16.900     0       0.0390   \n",
       "\n",
       "   acousticness  instrumentalness  liveness  valence    tempo  time_signature  \\\n",
       "0         0.674            0.7440     0.151    0.127  104.851               3   \n",
       "1         0.797            0.0000     0.148    0.655  102.009               1   \n",
       "2         0.994            0.0218     0.212    0.457  130.418               5   \n",
       "3         0.995            0.9180     0.104    0.397  169.980               3   \n",
       "4         0.989            0.1300     0.311    0.196  103.220               4   \n",
       "\n",
       "   duration  \n",
       "0   126.903  \n",
       "1    98.200  \n",
       "2   181.640  \n",
       "3   176.907  \n",
       "4   163.080  "
      ]
     },
     "execution_count": 92,
     "metadata": {},
     "output_type": "execute_result"
    }
   ],
   "source": [
    "df.head()"
   ]
  },
  {
   "cell_type": "markdown",
   "id": "262b4cca",
   "metadata": {},
   "source": [
    "We have a lot of features to work with. Having too much features can lead to overfitting. We will try to reduce the number of features. For that we will see the correlation of each feature with popularity."
   ]
  },
  {
   "cell_type": "code",
   "execution_count": 93,
   "id": "6733a4e5",
   "metadata": {},
   "outputs": [
    {
     "data": {
      "text/plain": [
       "popularity          1.000000\n",
       "acousticness        0.370666\n",
       "loudness            0.327682\n",
       "energy              0.302016\n",
       "instrumentalness    0.236540\n",
       "danceability        0.187727\n",
       "time_signature      0.086832\n",
       "tempo               0.071998\n",
       "liveness            0.049070\n",
       "speechiness         0.047311\n",
       "mode                0.033414\n",
       "duration            0.027130\n",
       "key                 0.015163\n",
       "valence             0.004451\n",
       "Name: popularity, dtype: float64"
      ]
     },
     "execution_count": 93,
     "metadata": {},
     "output_type": "execute_result"
    }
   ],
   "source": [
    "df_corr= df.corr()['popularity'].abs().sort_values(ascending=False)\n",
    "df_corr"
   ]
  },
  {
   "cell_type": "code",
   "execution_count": 94,
   "id": "6c7e9152",
   "metadata": {},
   "outputs": [
    {
     "data": {
      "text/html": [
       "<div>\n",
       "<style scoped>\n",
       "    .dataframe tbody tr th:only-of-type {\n",
       "        vertical-align: middle;\n",
       "    }\n",
       "\n",
       "    .dataframe tbody tr th {\n",
       "        vertical-align: top;\n",
       "    }\n",
       "\n",
       "    .dataframe thead th {\n",
       "        text-align: right;\n",
       "    }\n",
       "</style>\n",
       "<table border=\"1\" class=\"dataframe\">\n",
       "  <thead>\n",
       "    <tr style=\"text-align: right;\">\n",
       "      <th></th>\n",
       "      <th>popularity</th>\n",
       "      <th>danceability</th>\n",
       "      <th>energy</th>\n",
       "      <th>key</th>\n",
       "      <th>loudness</th>\n",
       "      <th>mode</th>\n",
       "      <th>speechiness</th>\n",
       "      <th>acousticness</th>\n",
       "      <th>instrumentalness</th>\n",
       "      <th>liveness</th>\n",
       "      <th>valence</th>\n",
       "      <th>tempo</th>\n",
       "      <th>time_signature</th>\n",
       "      <th>duration</th>\n",
       "    </tr>\n",
       "  </thead>\n",
       "  <tbody>\n",
       "    <tr>\n",
       "      <th>0</th>\n",
       "      <td>0.06</td>\n",
       "      <td>0.645</td>\n",
       "      <td>0.4450</td>\n",
       "      <td>0</td>\n",
       "      <td>-13.338</td>\n",
       "      <td>1</td>\n",
       "      <td>0.4510</td>\n",
       "      <td>0.674</td>\n",
       "      <td>0.7440</td>\n",
       "      <td>0.151</td>\n",
       "      <td>0.127</td>\n",
       "      <td>104.851</td>\n",
       "      <td>3</td>\n",
       "      <td>126.903</td>\n",
       "    </tr>\n",
       "    <tr>\n",
       "      <th>1</th>\n",
       "      <td>0.00</td>\n",
       "      <td>0.695</td>\n",
       "      <td>0.2630</td>\n",
       "      <td>0</td>\n",
       "      <td>-22.136</td>\n",
       "      <td>1</td>\n",
       "      <td>0.9570</td>\n",
       "      <td>0.797</td>\n",
       "      <td>0.0000</td>\n",
       "      <td>0.148</td>\n",
       "      <td>0.655</td>\n",
       "      <td>102.009</td>\n",
       "      <td>1</td>\n",
       "      <td>98.200</td>\n",
       "    </tr>\n",
       "    <tr>\n",
       "      <th>2</th>\n",
       "      <td>0.00</td>\n",
       "      <td>0.434</td>\n",
       "      <td>0.1770</td>\n",
       "      <td>1</td>\n",
       "      <td>-21.180</td>\n",
       "      <td>1</td>\n",
       "      <td>0.0512</td>\n",
       "      <td>0.994</td>\n",
       "      <td>0.0218</td>\n",
       "      <td>0.212</td>\n",
       "      <td>0.457</td>\n",
       "      <td>130.418</td>\n",
       "      <td>5</td>\n",
       "      <td>181.640</td>\n",
       "    </tr>\n",
       "    <tr>\n",
       "      <th>3</th>\n",
       "      <td>0.00</td>\n",
       "      <td>0.321</td>\n",
       "      <td>0.0946</td>\n",
       "      <td>7</td>\n",
       "      <td>-27.961</td>\n",
       "      <td>1</td>\n",
       "      <td>0.0504</td>\n",
       "      <td>0.995</td>\n",
       "      <td>0.9180</td>\n",
       "      <td>0.104</td>\n",
       "      <td>0.397</td>\n",
       "      <td>169.980</td>\n",
       "      <td>3</td>\n",
       "      <td>176.907</td>\n",
       "    </tr>\n",
       "    <tr>\n",
       "      <th>4</th>\n",
       "      <td>0.00</td>\n",
       "      <td>0.402</td>\n",
       "      <td>0.1580</td>\n",
       "      <td>3</td>\n",
       "      <td>-16.900</td>\n",
       "      <td>0</td>\n",
       "      <td>0.0390</td>\n",
       "      <td>0.989</td>\n",
       "      <td>0.1300</td>\n",
       "      <td>0.311</td>\n",
       "      <td>0.196</td>\n",
       "      <td>103.220</td>\n",
       "      <td>4</td>\n",
       "      <td>163.080</td>\n",
       "    </tr>\n",
       "  </tbody>\n",
       "</table>\n",
       "</div>"
      ],
      "text/plain": [
       "   popularity  danceability  energy  key  loudness  mode  speechiness  \\\n",
       "0        0.06         0.645  0.4450    0   -13.338     1       0.4510   \n",
       "1        0.00         0.695  0.2630    0   -22.136     1       0.9570   \n",
       "2        0.00         0.434  0.1770    1   -21.180     1       0.0512   \n",
       "3        0.00         0.321  0.0946    7   -27.961     1       0.0504   \n",
       "4        0.00         0.402  0.1580    3   -16.900     0       0.0390   \n",
       "\n",
       "   acousticness  instrumentalness  liveness  valence    tempo  time_signature  \\\n",
       "0         0.674            0.7440     0.151    0.127  104.851               3   \n",
       "1         0.797            0.0000     0.148    0.655  102.009               1   \n",
       "2         0.994            0.0218     0.212    0.457  130.418               5   \n",
       "3         0.995            0.9180     0.104    0.397  169.980               3   \n",
       "4         0.989            0.1300     0.311    0.196  103.220               4   \n",
       "\n",
       "   duration  \n",
       "0   126.903  \n",
       "1    98.200  \n",
       "2   181.640  \n",
       "3   176.907  \n",
       "4   163.080  "
      ]
     },
     "execution_count": 94,
     "metadata": {},
     "output_type": "execute_result"
    }
   ],
   "source": [
    "df.head()"
   ]
  },
  {
   "cell_type": "markdown",
   "id": "a2a7fe55",
   "metadata": {},
   "source": [
    "It can be seen that mode, key and valence are less correlated with popularity. So dropping thses features."
   ]
  },
  {
   "cell_type": "code",
   "execution_count": 95,
   "id": "315ef95c",
   "metadata": {},
   "outputs": [],
   "source": [
    "least_corr= ['key','mode','valence']\n",
    "df= df.drop(least_corr, axis=1)\n",
    "features= df.drop('popularity', axis=1).columns"
   ]
  },
  {
   "cell_type": "code",
   "execution_count": 96,
   "id": "cad54f6e",
   "metadata": {},
   "outputs": [
    {
     "name": "stdout",
     "output_type": "stream",
     "text": [
      "<class 'pandas.core.frame.DataFrame'>\n",
      "RangeIndex: 587927 entries, 0 to 587926\n",
      "Data columns (total 11 columns):\n",
      " #   Column            Non-Null Count   Dtype  \n",
      "---  ------            --------------   -----  \n",
      " 0   popularity        587927 non-null  float64\n",
      " 1   danceability      587927 non-null  float64\n",
      " 2   energy            587927 non-null  float64\n",
      " 3   loudness          587927 non-null  float64\n",
      " 4   speechiness       587927 non-null  float64\n",
      " 5   acousticness      587927 non-null  float64\n",
      " 6   instrumentalness  587927 non-null  float64\n",
      " 7   liveness          587927 non-null  float64\n",
      " 8   tempo             587927 non-null  float64\n",
      " 9   time_signature    587927 non-null  int64  \n",
      " 10  duration          587927 non-null  float64\n",
      "dtypes: float64(10), int64(1)\n",
      "memory usage: 49.3 MB\n"
     ]
    }
   ],
   "source": [
    "df.info()"
   ]
  },
  {
   "cell_type": "markdown",
   "id": "1e7367f1",
   "metadata": {},
   "source": [
    "# Classification Model"
   ]
  },
  {
   "cell_type": "markdown",
   "id": "130c5c6d",
   "metadata": {},
   "source": [
    "We'll try to predict songs' popularities by categorizing popularities(into \"high\",\"mid\",\"low\"), and classifying songs into those categories."
   ]
  },
  {
   "cell_type": "code",
   "execution_count": 97,
   "id": "0790cb89",
   "metadata": {},
   "outputs": [
    {
     "data": {
      "text/plain": [
       "0         (-0.001, 0.333]\n",
       "1         (-0.001, 0.333]\n",
       "2         (-0.001, 0.333]\n",
       "3         (-0.001, 0.333]\n",
       "4         (-0.001, 0.333]\n",
       "               ...       \n",
       "587922    (-0.001, 0.333]\n",
       "587923    (-0.001, 0.333]\n",
       "587924    (-0.001, 0.333]\n",
       "587925    (-0.001, 0.333]\n",
       "587926    (-0.001, 0.333]\n",
       "Name: popularity, Length: 587927, dtype: category\n",
       "Categories (3, interval[float64, right]): [(-0.001, 0.333] < (0.333, 0.667] < (0.667, 1.0]]"
      ]
     },
     "execution_count": 97,
     "metadata": {},
     "output_type": "execute_result"
    }
   ],
   "source": [
    "pd.cut(df['popularity'], bins=3)"
   ]
  },
  {
   "cell_type": "code",
   "execution_count": 98,
   "id": "8ac95041",
   "metadata": {},
   "outputs": [],
   "source": [
    "labels=['low','medium', 'high']\n",
    "df['popularity']= pd.cut(df['popularity'], bins=3, labels=labels, right=True)"
   ]
  },
  {
   "cell_type": "code",
   "execution_count": 99,
   "id": "302e4c99",
   "metadata": {},
   "outputs": [
    {
     "data": {
      "text/plain": [
       "low       363052\n",
       "medium    213090\n",
       "high       11785\n",
       "Name: popularity, dtype: int64"
      ]
     },
     "execution_count": 99,
     "metadata": {},
     "output_type": "execute_result"
    }
   ],
   "source": [
    "df.popularity.value_counts()"
   ]
  },
  {
   "cell_type": "markdown",
   "id": "73b95d31",
   "metadata": {},
   "source": [
    "The dataset is unbalanced. This is intuitive, because there aren't as many popular songs as there are non-popular songs. However,imbalance in dataset will tamper with the accuracy of our model. One way to counteract this is by upsampling songs with high popularity. We will then perform K-Nearest Neighbor classification, because they are good at handling noisy data."
   ]
  },
  {
   "cell_type": "markdown",
   "id": "b6c98de7",
   "metadata": {},
   "source": [
    "Up-sampling songs"
   ]
  },
  {
   "cell_type": "code",
   "execution_count": 100,
   "id": "41a54f94",
   "metadata": {},
   "outputs": [],
   "source": [
    "df_high= df[df.popularity=='high']\n",
    "df_mid= df[df.popularity=='medium']\n",
    "df_low= df[df.popularity=='low']"
   ]
  },
  {
   "cell_type": "code",
   "execution_count": 101,
   "id": "d12f4ca5",
   "metadata": {},
   "outputs": [],
   "source": [
    "df_mid_upsampled= resample(df_mid, replace=True, n_samples= 363052, random_state=42)\n",
    "df_high_upsampled= resample(df_high, replace=True, n_samples= 363052, random_state=42)\n",
    "\n",
    "list_df_upsampled_tohigh=[df_high_upsampled, df_mid_upsampled, df_low]\n",
    "\n",
    "df_resampled= pd.concat(list_df_upsampled_tohigh)"
   ]
  },
  {
   "cell_type": "code",
   "execution_count": 102,
   "id": "e52de587",
   "metadata": {},
   "outputs": [
    {
     "data": {
      "text/plain": [
       "low       363052\n",
       "medium    363052\n",
       "high      363052\n",
       "Name: popularity, dtype: int64"
      ]
     },
     "execution_count": 102,
     "metadata": {},
     "output_type": "execute_result"
    }
   ],
   "source": [
    "df_resampled.popularity.value_counts()"
   ]
  },
  {
   "cell_type": "code",
   "execution_count": 103,
   "id": "f91b74e1",
   "metadata": {},
   "outputs": [],
   "source": [
    "X_re= df_resampled.drop('popularity', axis=1)\n",
    "y_re= df_resampled['popularity']"
   ]
  },
  {
   "cell_type": "code",
   "execution_count": 104,
   "id": "48c553d7",
   "metadata": {},
   "outputs": [],
   "source": [
    "X_train, X_test, y_train, y_test= train_test_split(X_re, y_re, random_state= 42, test_size=0.3)"
   ]
  },
  {
   "cell_type": "markdown",
   "id": "7b5dad38",
   "metadata": {},
   "source": [
    "# K-Nearest Neighbors (KNN) Classifier"
   ]
  },
  {
   "cell_type": "code",
   "execution_count": 77,
   "id": "829fb69a",
   "metadata": {},
   "outputs": [
    {
     "name": "stdout",
     "output_type": "stream",
     "text": [
      "              precision    recall  f1-score   support\n",
      "\n",
      "        high       0.88      1.00      0.94    108764\n",
      "         low       0.70      0.58      0.63    108706\n",
      "      medium       0.65      0.67      0.66    109277\n",
      "\n",
      "    accuracy                           0.75    326747\n",
      "   macro avg       0.74      0.75      0.74    326747\n",
      "weighted avg       0.74      0.75      0.74    326747\n",
      "\n"
     ]
    }
   ],
   "source": [
    "KNN= KNeighborsClassifier()\n",
    "\n",
    "KNN.fit(X_train, y_train)\n",
    "\n",
    "y_pred_classification= KNN.predict(X_test)\n",
    "print(classification_report(y_test, y_pred_classification))"
   ]
  },
  {
   "cell_type": "markdown",
   "id": "0db186e4",
   "metadata": {},
   "source": [
    "Because KNN is not a tree-based algorithm, it requires standardization. We will put it as part of our function."
   ]
  },
  {
   "cell_type": "code",
   "execution_count": 78,
   "id": "deffcdd9",
   "metadata": {},
   "outputs": [],
   "source": [
    "def fit_model(n_neighbors):\n",
    "    StandardScaler()\n",
    "    n_neighbors= round(n_neighbors)\n",
    "\n",
    "    regressor= KNeighborsClassifier(n_neighbors= n_neighbors)\n",
    "    \n",
    "\n",
    "    return np.mean(cross_validate(regressor, X_train, y_train, scoring='accuracy', error_score= 'raise', cv=5)['test_score'])"
   ]
  },
  {
   "cell_type": "code",
   "execution_count": 79,
   "id": "a0548866",
   "metadata": {},
   "outputs": [
    {
     "name": "stdout",
     "output_type": "stream",
     "text": [
      "|   iter    |  target   | n_neig... |\n",
      "-------------------------------------\n"
     ]
    },
    {
     "name": "stderr",
     "output_type": "stream",
     "text": [
      "/var/folders/m6/stmkb2b53fl5wg411y7h4kxr0000gn/T/ipykernel_78696/1916942427.py:5: DeprecationWarning: \n",
      "Passing acquisition function parameters or gaussian process parameters to maximize\n",
      "is no longer supported, and will cause an error in future releases. Instead,\n",
      "please use the \"set_gp_params\" method to set the gp params, and pass an instance\n",
      " of bayes_opt.util.UtilityFunction using the acquisition_function argument\n",
      "\n",
      "  KNN_BO.maximize(n_iter=10, init_points=2, allow_duplicate_points=True)\n"
     ]
    },
    {
     "name": "stdout",
     "output_type": "stream",
     "text": [
      "| \u001b[0m1        \u001b[0m | \u001b[0m0.5758   \u001b[0m | \u001b[0m54.09    \u001b[0m |\n",
      "| \u001b[95m2        \u001b[0m | \u001b[95m0.6508   \u001b[0m | \u001b[95m20.63    \u001b[0m |\n",
      "| \u001b[95m3        \u001b[0m | \u001b[95m0.6595   \u001b[0m | \u001b[95m19.32    \u001b[0m |\n",
      "| \u001b[95m4        \u001b[0m | \u001b[95m0.7078   \u001b[0m | \u001b[95m9.207    \u001b[0m |\n",
      "| \u001b[95m5        \u001b[0m | \u001b[95m0.8104   \u001b[0m | \u001b[95m1.0      \u001b[0m |\n",
      "| \u001b[0m6        \u001b[0m | \u001b[0m0.559    \u001b[0m | \u001b[0m80.0     \u001b[0m |\n",
      "| \u001b[0m7        \u001b[0m | \u001b[0m0.7628   \u001b[0m | \u001b[0m2.178    \u001b[0m |\n",
      "| \u001b[0m8        \u001b[0m | \u001b[0m0.5956   \u001b[0m | \u001b[0m36.4     \u001b[0m |\n",
      "| \u001b[0m9        \u001b[0m | \u001b[0m0.5676   \u001b[0m | \u001b[0m66.87    \u001b[0m |\n",
      "| \u001b[0m10       \u001b[0m | \u001b[0m0.6817   \u001b[0m | \u001b[0m13.56    \u001b[0m |\n",
      "| \u001b[0m11       \u001b[0m | \u001b[0m0.5802   \u001b[0m | \u001b[0m45.02    \u001b[0m |\n",
      "| \u001b[0m12       \u001b[0m | \u001b[0m0.6226   \u001b[0m | \u001b[0m28.46    \u001b[0m |\n",
      "=====================================\n"
     ]
    }
   ],
   "source": [
    "KNN_BO = BayesianOptimization(fit_model,{\n",
    "        'n_neighbors': (1,80)\n",
    "    })\n",
    "\n",
    "KNN_BO.maximize(n_iter=10, init_points=2, allow_duplicate_points=True)"
   ]
  },
  {
   "cell_type": "code",
   "execution_count": 80,
   "id": "882765f8",
   "metadata": {},
   "outputs": [
    {
     "name": "stdout",
     "output_type": "stream",
     "text": [
      "{'target': 0.8103603164973979, 'params': {'n_neighbors': 1.0}}\n"
     ]
    }
   ],
   "source": [
    "print(KNN_BO.max)"
   ]
  },
  {
   "cell_type": "code",
   "execution_count": 81,
   "id": "cac7e750",
   "metadata": {},
   "outputs": [],
   "source": [
    "n_neighbors= KNN_BO.max['params']['n_neighbors']"
   ]
  },
  {
   "cell_type": "code",
   "execution_count": 82,
   "id": "d295fe38",
   "metadata": {},
   "outputs": [
    {
     "name": "stdout",
     "output_type": "stream",
     "text": [
      "              precision    recall  f1-score   support\n",
      "\n",
      "        high       0.99      0.96      0.98    112218\n",
      "         low       0.67      0.81      0.74     89912\n",
      "      medium       0.83      0.73      0.77    124617\n",
      "\n",
      "    accuracy                           0.83    326747\n",
      "   macro avg       0.83      0.83      0.83    326747\n",
      "weighted avg       0.84      0.83      0.83    326747\n",
      "\n"
     ]
    }
   ],
   "source": [
    "model = KNeighborsClassifier(n_neighbors= round(n_neighbors))\n",
    "model.fit(X_train, y_train)\n",
    "\n",
    "y_pred = model.predict(X_test)\n",
    "\n",
    "print(classification_report(y_pred, y_test))"
   ]
  },
  {
   "cell_type": "markdown",
   "id": "d65c9aff",
   "metadata": {},
   "source": [
    "KNN classifier performs better, with accuracy score of 0.83 (83%)."
   ]
  }
 ],
 "metadata": {
  "kernelspec": {
   "display_name": "Python 3 (ipykernel)",
   "language": "python",
   "name": "python3"
  },
  "language_info": {
   "codemirror_mode": {
    "name": "ipython",
    "version": 3
   },
   "file_extension": ".py",
   "mimetype": "text/x-python",
   "name": "python",
   "nbconvert_exporter": "python",
   "pygments_lexer": "ipython3",
   "version": "3.9.13"
  }
 },
 "nbformat": 4,
 "nbformat_minor": 5
}
